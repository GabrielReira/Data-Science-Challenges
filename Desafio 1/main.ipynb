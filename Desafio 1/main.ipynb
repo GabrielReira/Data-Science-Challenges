{
 "metadata": {
  "language_info": {
   "codemirror_mode": {
    "name": "ipython",
    "version": 3
   },
   "file_extension": ".py",
   "mimetype": "text/x-python",
   "name": "python",
   "nbconvert_exporter": "python",
   "pygments_lexer": "ipython3",
   "version": "3.8.5-final"
  },
  "orig_nbformat": 2,
  "kernelspec": {
   "name": "python3",
   "display_name": "Python 3.8.5 32-bit",
   "metadata": {
    "interpreter": {
     "hash": "31c071d0d1e0ad3cc9ba7267fe515a5ec60e11fd3e3dbcdd0ce18975574aa67e"
    }
   }
  }
 },
 "nbformat": 4,
 "nbformat_minor": 2,
 "cells": [
  {
   "source": [
    "# Solução do desafio\n",
    "\n",
    "Para resolver esse desafio vou seguir a seguinte lógica:\n",
    "\n",
    "- Passo 1 - Importar a base de dados e visualizá-la\n",
    "- Passo 2 - Calcular os indicadores de todas as lojas:\n",
    "  - Faturamento por Loja\n",
    "  - Quantidade de produtos vendidos por Loja\n",
    "  - Ticket médio dos produto por Loja\n",
    "- Passo 3 - Automatizar envio por email dos relatórios\n",
    "- Passo 4 - Enviar email para Diretoria e para cada gerente das Lojas"
   ],
   "cell_type": "markdown",
   "metadata": {}
  },
  {
   "source": [
    "## Passo 1 - Importando a base de dados\n",
    "\n",
    "Para resolução de todo esse desafio utilizarei a biblioteca *pandas* como aliada, além do pacote *openpyxl*, para que possa fazer a leitura do arquivo excel que possui os relatórios de vendas.\n",
    "\n",
    "Esse pacote, assim como a biblioteca pandas, podem ser facilmente instalados através do pip."
   ],
   "cell_type": "markdown",
   "metadata": {}
  },
  {
   "cell_type": "code",
   "execution_count": 42,
   "metadata": {},
   "outputs": [
    {
     "output_type": "display_data",
     "data": {
      "text/plain": "        Código Venda       Data                     ID Loja           Produto  \\\n0                  1 2019-01-01          Iguatemi Esplanada    Sapato Estampa   \n1                  1 2019-01-01          Iguatemi Esplanada          Camiseta   \n2                  1 2019-01-01          Iguatemi Esplanada     Sapato Xadrez   \n3                  2 2019-01-02              Norte Shopping           Relógio   \n4                  2 2019-01-02              Norte Shopping      Chinelo Liso   \n...              ...        ...                         ...               ...   \n100994         69996 2019-12-26  Center Shopping Uberlândia    Short Listrado   \n100995         69996 2019-12-26  Center Shopping Uberlândia           Mochila   \n100996         69996 2019-12-26  Center Shopping Uberlândia  Pulseira Estampa   \n100997         69997 2019-12-26           Ribeirão Shopping   Camisa Listrado   \n100998         69997 2019-12-26           Ribeirão Shopping       Short Linho   \n\n        Quantidade  Valor Unitário  Valor Final  \n0                1             358          358  \n1                2             180          360  \n2                1             368          368  \n3                3             200          600  \n4                1              71           71  \n...            ...             ...          ...  \n100994           2             102          204  \n100995           4             270         1080  \n100996           1              87           87  \n100997           1             108          108  \n100998           2             133          266  \n\n[100999 rows x 7 columns]",
      "text/html": "<div>\n<style scoped>\n    .dataframe tbody tr th:only-of-type {\n        vertical-align: middle;\n    }\n\n    .dataframe tbody tr th {\n        vertical-align: top;\n    }\n\n    .dataframe thead th {\n        text-align: right;\n    }\n</style>\n<table border=\"1\" class=\"dataframe\">\n  <thead>\n    <tr style=\"text-align: right;\">\n      <th></th>\n      <th>Código Venda</th>\n      <th>Data</th>\n      <th>ID Loja</th>\n      <th>Produto</th>\n      <th>Quantidade</th>\n      <th>Valor Unitário</th>\n      <th>Valor Final</th>\n    </tr>\n  </thead>\n  <tbody>\n    <tr>\n      <th>0</th>\n      <td>1</td>\n      <td>2019-01-01</td>\n      <td>Iguatemi Esplanada</td>\n      <td>Sapato Estampa</td>\n      <td>1</td>\n      <td>358</td>\n      <td>358</td>\n    </tr>\n    <tr>\n      <th>1</th>\n      <td>1</td>\n      <td>2019-01-01</td>\n      <td>Iguatemi Esplanada</td>\n      <td>Camiseta</td>\n      <td>2</td>\n      <td>180</td>\n      <td>360</td>\n    </tr>\n    <tr>\n      <th>2</th>\n      <td>1</td>\n      <td>2019-01-01</td>\n      <td>Iguatemi Esplanada</td>\n      <td>Sapato Xadrez</td>\n      <td>1</td>\n      <td>368</td>\n      <td>368</td>\n    </tr>\n    <tr>\n      <th>3</th>\n      <td>2</td>\n      <td>2019-01-02</td>\n      <td>Norte Shopping</td>\n      <td>Relógio</td>\n      <td>3</td>\n      <td>200</td>\n      <td>600</td>\n    </tr>\n    <tr>\n      <th>4</th>\n      <td>2</td>\n      <td>2019-01-02</td>\n      <td>Norte Shopping</td>\n      <td>Chinelo Liso</td>\n      <td>1</td>\n      <td>71</td>\n      <td>71</td>\n    </tr>\n    <tr>\n      <th>...</th>\n      <td>...</td>\n      <td>...</td>\n      <td>...</td>\n      <td>...</td>\n      <td>...</td>\n      <td>...</td>\n      <td>...</td>\n    </tr>\n    <tr>\n      <th>100994</th>\n      <td>69996</td>\n      <td>2019-12-26</td>\n      <td>Center Shopping Uberlândia</td>\n      <td>Short Listrado</td>\n      <td>2</td>\n      <td>102</td>\n      <td>204</td>\n    </tr>\n    <tr>\n      <th>100995</th>\n      <td>69996</td>\n      <td>2019-12-26</td>\n      <td>Center Shopping Uberlândia</td>\n      <td>Mochila</td>\n      <td>4</td>\n      <td>270</td>\n      <td>1080</td>\n    </tr>\n    <tr>\n      <th>100996</th>\n      <td>69996</td>\n      <td>2019-12-26</td>\n      <td>Center Shopping Uberlândia</td>\n      <td>Pulseira Estampa</td>\n      <td>1</td>\n      <td>87</td>\n      <td>87</td>\n    </tr>\n    <tr>\n      <th>100997</th>\n      <td>69997</td>\n      <td>2019-12-26</td>\n      <td>Ribeirão Shopping</td>\n      <td>Camisa Listrado</td>\n      <td>1</td>\n      <td>108</td>\n      <td>108</td>\n    </tr>\n    <tr>\n      <th>100998</th>\n      <td>69997</td>\n      <td>2019-12-26</td>\n      <td>Ribeirão Shopping</td>\n      <td>Short Linho</td>\n      <td>2</td>\n      <td>133</td>\n      <td>266</td>\n    </tr>\n  </tbody>\n</table>\n<p>100999 rows × 7 columns</p>\n</div>"
     },
     "metadata": {}
    }
   ],
   "source": [
    "import pandas as pd\n",
    "\n",
    "df = pd.read_excel(r'vendas.xlsx')\n",
    "display(df)"
   ]
  },
  {
   "source": [
    "## Passo 2 - Calculando os indicadores"
   ],
   "cell_type": "markdown",
   "metadata": {}
  },
  {
   "source": [
    "### Faturamento por loja\n",
    "\n",
    "Para calcular o faturamento de cada loja, irei usar a função *groupby* com o objetivo de agrupar as linhas de uma mesma loja e depois usar a função *sum* para somar todo o seu faturamento. Ao final, usarei a função *sort_values* para ordenar a tabela em ordem decrescente a partir da loja que obteve o maior valor de faturamento."
   ],
   "cell_type": "markdown",
   "metadata": {}
  },
  {
   "cell_type": "code",
   "execution_count": 43,
   "metadata": {},
   "outputs": [
    {
     "output_type": "display_data",
     "data": {
      "text/plain": "                                  Valor Final\nID Loja                                      \nIguatemi Campinas                     1762419\nShopping Vila Velha                   1731167\nBourbon Shopping SP                   1726110\nRio Mar Recife                        1722766\nShopping SP Market                    1721763\nPalladium Shopping Curitiba           1721120\nNorte Shopping                        1711968\nRibeirão Shopping                     1707122\nIguatemi Esplanada                    1699681\nRio Mar Shopping Fortaleza            1698430\nShopping Center Leste Aricanduva      1682870\nNovo Shopping Ribeirão Preto          1678225\nShopping Iguatemi Fortaleza           1674824\nCenter Shopping Uberlândia            1668921\nShopping União de Osasco              1663770\nShopping Barra                        1653103\nPassei das Águas Shopping             1649014\nShopping Eldorado                     1648111\nSalvador Shopping                     1646739\nShopping Center Interlagos            1640486\nShopping Ibirapuera                   1635060\nParque Dom Pedro Shopping             1631630\nShopping Recife                       1624879\nShopping Midway Mall                  1590441\nShopping Morumbi                      1586444",
      "text/html": "<div>\n<style scoped>\n    .dataframe tbody tr th:only-of-type {\n        vertical-align: middle;\n    }\n\n    .dataframe tbody tr th {\n        vertical-align: top;\n    }\n\n    .dataframe thead th {\n        text-align: right;\n    }\n</style>\n<table border=\"1\" class=\"dataframe\">\n  <thead>\n    <tr style=\"text-align: right;\">\n      <th></th>\n      <th>Valor Final</th>\n    </tr>\n    <tr>\n      <th>ID Loja</th>\n      <th></th>\n    </tr>\n  </thead>\n  <tbody>\n    <tr>\n      <th>Iguatemi Campinas</th>\n      <td>1762419</td>\n    </tr>\n    <tr>\n      <th>Shopping Vila Velha</th>\n      <td>1731167</td>\n    </tr>\n    <tr>\n      <th>Bourbon Shopping SP</th>\n      <td>1726110</td>\n    </tr>\n    <tr>\n      <th>Rio Mar Recife</th>\n      <td>1722766</td>\n    </tr>\n    <tr>\n      <th>Shopping SP Market</th>\n      <td>1721763</td>\n    </tr>\n    <tr>\n      <th>Palladium Shopping Curitiba</th>\n      <td>1721120</td>\n    </tr>\n    <tr>\n      <th>Norte Shopping</th>\n      <td>1711968</td>\n    </tr>\n    <tr>\n      <th>Ribeirão Shopping</th>\n      <td>1707122</td>\n    </tr>\n    <tr>\n      <th>Iguatemi Esplanada</th>\n      <td>1699681</td>\n    </tr>\n    <tr>\n      <th>Rio Mar Shopping Fortaleza</th>\n      <td>1698430</td>\n    </tr>\n    <tr>\n      <th>Shopping Center Leste Aricanduva</th>\n      <td>1682870</td>\n    </tr>\n    <tr>\n      <th>Novo Shopping Ribeirão Preto</th>\n      <td>1678225</td>\n    </tr>\n    <tr>\n      <th>Shopping Iguatemi Fortaleza</th>\n      <td>1674824</td>\n    </tr>\n    <tr>\n      <th>Center Shopping Uberlândia</th>\n      <td>1668921</td>\n    </tr>\n    <tr>\n      <th>Shopping União de Osasco</th>\n      <td>1663770</td>\n    </tr>\n    <tr>\n      <th>Shopping Barra</th>\n      <td>1653103</td>\n    </tr>\n    <tr>\n      <th>Passei das Águas Shopping</th>\n      <td>1649014</td>\n    </tr>\n    <tr>\n      <th>Shopping Eldorado</th>\n      <td>1648111</td>\n    </tr>\n    <tr>\n      <th>Salvador Shopping</th>\n      <td>1646739</td>\n    </tr>\n    <tr>\n      <th>Shopping Center Interlagos</th>\n      <td>1640486</td>\n    </tr>\n    <tr>\n      <th>Shopping Ibirapuera</th>\n      <td>1635060</td>\n    </tr>\n    <tr>\n      <th>Parque Dom Pedro Shopping</th>\n      <td>1631630</td>\n    </tr>\n    <tr>\n      <th>Shopping Recife</th>\n      <td>1624879</td>\n    </tr>\n    <tr>\n      <th>Shopping Midway Mall</th>\n      <td>1590441</td>\n    </tr>\n    <tr>\n      <th>Shopping Morumbi</th>\n      <td>1586444</td>\n    </tr>\n  </tbody>\n</table>\n</div>"
     },
     "metadata": {}
    }
   ],
   "source": [
    "df_billing = df[['ID Loja', 'Valor Final']].groupby('ID Loja').sum()\n",
    "df_billing = df_billing.sort_values(by='Valor Final', ascending=False)\n",
    "display(df_billing)"
   ]
  },
  {
   "source": [
    "### Quantidade de produtos vendidos por loja\n",
    "\n",
    "Para calcular a quantidade de produtos vendidos por cada loja, basta usar da mesma lógica utilizada para calcular o faturamento, que é a partir do uso das funções *groupby* e *sum*. E, ao final, ordenar a tabela em ordem decrescente a partir da loja que obteve o maior número de produtos vendidos."
   ],
   "cell_type": "markdown",
   "metadata": {}
  },
  {
   "cell_type": "code",
   "execution_count": 44,
   "metadata": {},
   "outputs": [
    {
     "output_type": "display_data",
     "data": {
      "text/plain": "                                  Quantidade\nID Loja                                     \nShopping Vila Velha                     9224\nPalladium Shopping Curitiba             9091\nNorte Shopping                          9014\nShopping Center Leste Aricanduva        8938\nRio Mar Shopping Fortaleza              8937\nIguatemi Campinas                       8935\nShopping SP Market                      8927\nRio Mar Recife                          8863\nBourbon Shopping SP                     8863\nRibeirão Shopping                       8825\nNovo Shopping Ribeirão Preto            8751\nShopping União de Osasco                8730\nShopping Ibirapuera                     8723\nShopping Eldorado                       8719\nSalvador Shopping                       8698\nShopping Center Interlagos              8675\nShopping Barra                          8638\nShopping Iguatemi Fortaleza             8629\nCenter Shopping Uberlândia              8627\nPassei das Águas Shopping               8618\nShopping Recife                         8581\nIguatemi Esplanada                      8580\nShopping Morumbi                        8508\nParque Dom Pedro Shopping               8388\nShopping Midway Mall                    8206",
      "text/html": "<div>\n<style scoped>\n    .dataframe tbody tr th:only-of-type {\n        vertical-align: middle;\n    }\n\n    .dataframe tbody tr th {\n        vertical-align: top;\n    }\n\n    .dataframe thead th {\n        text-align: right;\n    }\n</style>\n<table border=\"1\" class=\"dataframe\">\n  <thead>\n    <tr style=\"text-align: right;\">\n      <th></th>\n      <th>Quantidade</th>\n    </tr>\n    <tr>\n      <th>ID Loja</th>\n      <th></th>\n    </tr>\n  </thead>\n  <tbody>\n    <tr>\n      <th>Shopping Vila Velha</th>\n      <td>9224</td>\n    </tr>\n    <tr>\n      <th>Palladium Shopping Curitiba</th>\n      <td>9091</td>\n    </tr>\n    <tr>\n      <th>Norte Shopping</th>\n      <td>9014</td>\n    </tr>\n    <tr>\n      <th>Shopping Center Leste Aricanduva</th>\n      <td>8938</td>\n    </tr>\n    <tr>\n      <th>Rio Mar Shopping Fortaleza</th>\n      <td>8937</td>\n    </tr>\n    <tr>\n      <th>Iguatemi Campinas</th>\n      <td>8935</td>\n    </tr>\n    <tr>\n      <th>Shopping SP Market</th>\n      <td>8927</td>\n    </tr>\n    <tr>\n      <th>Rio Mar Recife</th>\n      <td>8863</td>\n    </tr>\n    <tr>\n      <th>Bourbon Shopping SP</th>\n      <td>8863</td>\n    </tr>\n    <tr>\n      <th>Ribeirão Shopping</th>\n      <td>8825</td>\n    </tr>\n    <tr>\n      <th>Novo Shopping Ribeirão Preto</th>\n      <td>8751</td>\n    </tr>\n    <tr>\n      <th>Shopping União de Osasco</th>\n      <td>8730</td>\n    </tr>\n    <tr>\n      <th>Shopping Ibirapuera</th>\n      <td>8723</td>\n    </tr>\n    <tr>\n      <th>Shopping Eldorado</th>\n      <td>8719</td>\n    </tr>\n    <tr>\n      <th>Salvador Shopping</th>\n      <td>8698</td>\n    </tr>\n    <tr>\n      <th>Shopping Center Interlagos</th>\n      <td>8675</td>\n    </tr>\n    <tr>\n      <th>Shopping Barra</th>\n      <td>8638</td>\n    </tr>\n    <tr>\n      <th>Shopping Iguatemi Fortaleza</th>\n      <td>8629</td>\n    </tr>\n    <tr>\n      <th>Center Shopping Uberlândia</th>\n      <td>8627</td>\n    </tr>\n    <tr>\n      <th>Passei das Águas Shopping</th>\n      <td>8618</td>\n    </tr>\n    <tr>\n      <th>Shopping Recife</th>\n      <td>8581</td>\n    </tr>\n    <tr>\n      <th>Iguatemi Esplanada</th>\n      <td>8580</td>\n    </tr>\n    <tr>\n      <th>Shopping Morumbi</th>\n      <td>8508</td>\n    </tr>\n    <tr>\n      <th>Parque Dom Pedro Shopping</th>\n      <td>8388</td>\n    </tr>\n    <tr>\n      <th>Shopping Midway Mall</th>\n      <td>8206</td>\n    </tr>\n  </tbody>\n</table>\n</div>"
     },
     "metadata": {}
    }
   ],
   "source": [
    "df_quantity = df[['ID Loja', 'Quantidade']].groupby('ID Loja').sum()\n",
    "df_quantity = df_quantity.sort_values(by='Quantidade', ascending=False)\n",
    "display(df_quantity)"
   ]
  },
  {
   "source": [
    "### Ticket médio dos produtos por loja\n",
    "\n",
    "Ticket médio nada mais é que o valor médio das vendas em um determinado período. E para calcular essa métrica deve-se dividir o valor total de faturamento de cada loja pela sua quantidade de produtos vendidos.\n",
    "\n",
    "No entanto, há uma diferença aqui em relação aos passos anteriores. Até então, eu estava apenas somando os dados existentes da tabela, mas aqui estou estruturando uma nova coluna e não agrupando uma existente. Então, para criar uma nova coluna em uma tabela utilizarei a função *to_frame*, nomeando-a por Ticket Médio."
   ],
   "cell_type": "markdown",
   "metadata": {}
  },
  {
   "cell_type": "code",
   "execution_count": 45,
   "metadata": {},
   "outputs": [
    {
     "output_type": "display_data",
     "data": {
      "text/plain": "                                  Ticket Médio\nID Loja                                       \nIguatemi Esplanada                  198.098019\nIguatemi Campinas                   197.248909\nBourbon Shopping SP                 194.754598\nParque Dom Pedro Shopping           194.519552\nRio Mar Recife                      194.377299\nShopping Iguatemi Fortaleza         194.092479\nShopping Midway Mall                193.814404\nCenter Shopping Uberlândia          193.453228\nRibeirão Shopping                   193.441586\nShopping SP Market                  192.871401\nNovo Shopping Ribeirão Preto        191.775226\nShopping Barra                      191.375666\nPassei das Águas Shopping           191.345324\nShopping União de Osasco            190.580756\nRio Mar Shopping Fortaleza          190.044758\nNorte Shopping                      189.923231\nShopping Recife                     189.357767\nSalvador Shopping                   189.323868\nPalladium Shopping Curitiba         189.321307\nShopping Center Interlagos          189.105014\nShopping Eldorado                   189.025232\nShopping Center Leste Aricanduva    188.282614\nShopping Vila Velha                 187.680724\nShopping Ibirapuera                 187.442394\nShopping Morumbi                    186.464974",
      "text/html": "<div>\n<style scoped>\n    .dataframe tbody tr th:only-of-type {\n        vertical-align: middle;\n    }\n\n    .dataframe tbody tr th {\n        vertical-align: top;\n    }\n\n    .dataframe thead th {\n        text-align: right;\n    }\n</style>\n<table border=\"1\" class=\"dataframe\">\n  <thead>\n    <tr style=\"text-align: right;\">\n      <th></th>\n      <th>Ticket Médio</th>\n    </tr>\n    <tr>\n      <th>ID Loja</th>\n      <th></th>\n    </tr>\n  </thead>\n  <tbody>\n    <tr>\n      <th>Iguatemi Esplanada</th>\n      <td>198.098019</td>\n    </tr>\n    <tr>\n      <th>Iguatemi Campinas</th>\n      <td>197.248909</td>\n    </tr>\n    <tr>\n      <th>Bourbon Shopping SP</th>\n      <td>194.754598</td>\n    </tr>\n    <tr>\n      <th>Parque Dom Pedro Shopping</th>\n      <td>194.519552</td>\n    </tr>\n    <tr>\n      <th>Rio Mar Recife</th>\n      <td>194.377299</td>\n    </tr>\n    <tr>\n      <th>Shopping Iguatemi Fortaleza</th>\n      <td>194.092479</td>\n    </tr>\n    <tr>\n      <th>Shopping Midway Mall</th>\n      <td>193.814404</td>\n    </tr>\n    <tr>\n      <th>Center Shopping Uberlândia</th>\n      <td>193.453228</td>\n    </tr>\n    <tr>\n      <th>Ribeirão Shopping</th>\n      <td>193.441586</td>\n    </tr>\n    <tr>\n      <th>Shopping SP Market</th>\n      <td>192.871401</td>\n    </tr>\n    <tr>\n      <th>Novo Shopping Ribeirão Preto</th>\n      <td>191.775226</td>\n    </tr>\n    <tr>\n      <th>Shopping Barra</th>\n      <td>191.375666</td>\n    </tr>\n    <tr>\n      <th>Passei das Águas Shopping</th>\n      <td>191.345324</td>\n    </tr>\n    <tr>\n      <th>Shopping União de Osasco</th>\n      <td>190.580756</td>\n    </tr>\n    <tr>\n      <th>Rio Mar Shopping Fortaleza</th>\n      <td>190.044758</td>\n    </tr>\n    <tr>\n      <th>Norte Shopping</th>\n      <td>189.923231</td>\n    </tr>\n    <tr>\n      <th>Shopping Recife</th>\n      <td>189.357767</td>\n    </tr>\n    <tr>\n      <th>Salvador Shopping</th>\n      <td>189.323868</td>\n    </tr>\n    <tr>\n      <th>Palladium Shopping Curitiba</th>\n      <td>189.321307</td>\n    </tr>\n    <tr>\n      <th>Shopping Center Interlagos</th>\n      <td>189.105014</td>\n    </tr>\n    <tr>\n      <th>Shopping Eldorado</th>\n      <td>189.025232</td>\n    </tr>\n    <tr>\n      <th>Shopping Center Leste Aricanduva</th>\n      <td>188.282614</td>\n    </tr>\n    <tr>\n      <th>Shopping Vila Velha</th>\n      <td>187.680724</td>\n    </tr>\n    <tr>\n      <th>Shopping Ibirapuera</th>\n      <td>187.442394</td>\n    </tr>\n    <tr>\n      <th>Shopping Morumbi</th>\n      <td>186.464974</td>\n    </tr>\n  </tbody>\n</table>\n</div>"
     },
     "metadata": {}
    }
   ],
   "source": [
    "df_average_ticket = (df_billing['Valor Final'] / df_quantity['Quantidade']).to_frame('Ticket Médio')\n",
    "df_average_ticket = df_average_ticket.sort_values(by='Ticket Médio', ascending=False)\n",
    "display(df_average_ticket)"
   ]
  },
  {
   "source": [
    "## Passo 3 - Automatizando envio de emails\n",
    "\n",
    "Neste passo, mostrarei como enviar um email através do servidor SMTP do Gmail, pelo fato dele ser o mais seguro e o mais utilizado. Porém, é necessário primeiro acessar o link https://www.google.com/settings/security/lesssecureapps e habilitar o acesso de aplicativo menos seguro, que nesse caso é permitir ao Google realizar o login via *smtplib*.\n",
    "\n",
    "Por padrão, como medida de segurança, o próprio Gmail não permite o envio de emails através de códigos, então é necessário que você também acesse o link https://accounts.google.com/DisplayUnlockCaptcha e clique em 'continuar', desabilitando assim o bloqueio de aplicativos, ou seja, permitindo o envio de emails através de códigos em Python.\n",
    "\n",
    "Para automatizar o envio de emails, criarei uma função chamada *send_email*, onde ela vai receber dois parâmetros: o primeiro será uma tabela com o relatório a ser enviado e o segundo será o nome da respectiva loja que foi feito esse relatório."
   ],
   "cell_type": "markdown",
   "metadata": {}
  },
  {
   "cell_type": "code",
   "execution_count": 46,
   "metadata": {},
   "outputs": [],
   "source": [
    "import smtplib\n",
    "import email.message\n",
    "\n",
    "def send_email(df, store_name):\n",
    "    # Criando instância de objeto da mensagem\n",
    "    msg = email.message.Message()\n",
    "    message = f'''\n",
    "    <p>Prezados, segue o relatório de vendas de sua loja.</p>\n",
    "    {df.to_html()}\n",
    "    '''\n",
    "\n",
    "    # Configurando os parâmetros da mensagem\n",
    "    msg['Subject'] = f'Relatório - {store_name}'\n",
    "    msg['From'] = 'remetente@gmail.com'\n",
    "    msg['To'] = 'destinatario@email.com'  # Apenas o remetente precisa ser Gmail\n",
    "    password = 'senha_do_gmail_do_remetente'\n",
    "\n",
    "    # Adicionado cabeçalho e corpo do email\n",
    "    msg.add_header('Content-Type', 'text/html')\n",
    "    msg.set_payload(message)\n",
    "    \n",
    "    # Criando e configurando servidor\n",
    "    server = smtplib.SMTP('smtp.gmail.com:587')\n",
    "    server.starttls()\n",
    "    server.login(msg['From'], password)\n",
    "    # Enviando email através do servidor\n",
    "    server.sendmail(msg['From'], [msg['To']], msg.as_string().encode('utf-8'))\n",
    "    server.quit()"
   ]
  },
  {
   "source": [
    "## Passo 4 - Enviando emails"
   ],
   "cell_type": "markdown",
   "metadata": {}
  },
  {
   "source": [
    "### Email para diretoria\n",
    "\n",
    "O email que deve ser enviado a diretoria precisa conter um ranking com todas as informações de todas as lojas, ou seja, deve ser a união das tabelas de faturamento, quantidade de produtos vendidos e o ticket médio. Para isso, irei agrupar toda a informação em uma única tabela para que seja possível uma visão macro de como vão os resultados da empresa. E para unir as três informações citadas anteriormente, basta usar a função *join*.\n",
    "\n",
    "O ranking, então, será uma tabela ordenada a partir da loja que obteve o maior faturamento."
   ],
   "cell_type": "markdown",
   "metadata": {}
  },
  {
   "cell_type": "code",
   "execution_count": 47,
   "metadata": {},
   "outputs": [],
   "source": [
    "df_board = df_billing.join(df_quantity).join(df_average_ticket)\n",
    "df_board = df_board.sort_values(by='Valor Final', ascending=False)\n",
    "send_email(df_board, 'Todas as lojas')"
   ]
  },
  {
   "source": [
    "### Email para gerentes\n",
    "\n",
    "Esse email deve enviar o relatório de vendas de cada empresa para seu respectivo gerente. O relatório deve conter o faturamento, quantidade de produtos vendidos e o ticket médio de cada loja individualmente. Para isso, incorporarei o nome de todas as lojas em um vetor utilizando a função *unique*. Então enviarei um email para cada uma das empresas listadas através de um *loop for*.\n"
   ],
   "cell_type": "markdown",
   "metadata": {}
  },
  {
   "cell_type": "code",
   "execution_count": 48,
   "metadata": {},
   "outputs": [],
   "source": [
    "store = df['ID Loja'].unique()\n",
    "\n",
    "for s in store:\n",
    "    df_store = df.loc[df['ID Loja'] == s, ['ID Loja','Quantidade','Valor Final']]\n",
    "    df_store = df_store.groupby('ID Loja').sum()\n",
    "    df_store['Ticket Médio'] = df_store['Valor Final'] / df_store['Quantidade']\n",
    "    send_email(df_store, s)"
   ]
  },
  {
   "source": [
    "### Implementação extra\n",
    "\n",
    "Caso o arquivo *Excel* possuísse uma coluna com o email de cada loja, então poderíamos automatizar ainda mais todo esse processo. Eu utilizaria essa coluna para criar um vetor que conteria o email de cada loja, igual eu fiz com  seu nome.\n",
    "\n",
    "Portanto, bastaria adicionar mais um parâmetro a função *send_email*, que conteria o email da respectiva loja e então, ao invés de colocar um destinatário fixo dentro da função, utilizaria agora o parâmetro email. No final, basta fazer uma pequena alteração no loop.\n",
    "\n",
    "O resultado final ficaria assim:"
   ],
   "cell_type": "markdown",
   "metadata": {}
  },
  {
   "cell_type": "code",
   "execution_count": null,
   "metadata": {},
   "outputs": [],
   "source": [
    "store = df['ID Loja'].unique()\n",
    "email = df['Email'].unique()\n",
    "\n",
    "for i, s in enumerate(store):\n",
    "    df_store = df.loc[df['ID Loja'] == s, ['ID Loja','Quantidade','Valor Final']]\n",
    "    df_store = df_store.groupby('ID Loja').sum()\n",
    "    df_store['Ticket Médio'] = df_store['Valor Final'] / df_store['Quantidade']\n",
    "    send_email(df_store, s, email[i])"
   ]
  }
 ]
}