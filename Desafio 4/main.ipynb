{
 "metadata": {
  "language_info": {
   "codemirror_mode": {
    "name": "ipython",
    "version": 3
   },
   "file_extension": ".py",
   "mimetype": "text/x-python",
   "name": "python",
   "nbconvert_exporter": "python",
   "pygments_lexer": "ipython3",
   "version": "3.8.5-final"
  },
  "orig_nbformat": 2,
  "kernelspec": {
   "name": "python3",
   "display_name": "Python 3.8.5 32-bit",
   "metadata": {
    "interpreter": {
     "hash": "31c071d0d1e0ad3cc9ba7267fe515a5ec60e11fd3e3dbcdd0ce18975574aa67e"
    }
   }
  }
 },
 "nbformat": 4,
 "nbformat_minor": 2,
 "cells": [
  {
   "source": [
    "# Solução do desafio\n",
    "\n",
    "Para resolução desse desafio, seguirei essas etapas:\n",
    "\n",
    "- Passo 1 - Importar a base de dados e visualizá-la\n",
    "- Passo 2 - Fazer o processo de pagamento manualmente\n",
    "- Passo 3 - Transformar o processo manual em código Python\n",
    "- Passo 4 - Automatizar para toda a base de dados"
   ],
   "cell_type": "markdown",
   "metadata": {}
  },
  {
   "source": [
    "## Passo 1 - Importando a base de dados\n",
    "\n",
    "Primeiramente, importarei as bibliotecas necessárias para resolução desse desafio, sendo elas: *pandas*, *time* e *selenium*.\n",
    "\n",
    "Após isso, importarei a base de dados e a exibirei. Como a coluna 'Cliente' trata-se do CPF, é importante que o Python não a interprete como uma coluna numérica, pois senão os zeros a esquerda seriam eliminados. Logo, passarei o parâmetro *dtype* dessa coluna como *object*, evitando que isso ocorra."
   ],
   "cell_type": "markdown",
   "metadata": {}
  },
  {
   "cell_type": "code",
   "execution_count": 1,
   "metadata": {},
   "outputs": [
    {
     "output_type": "display_data",
     "data": {
      "text/plain": "        Cliente        Nome  Valor Pago  Valor Total Devido  \\\n0   11122233312        José        8950                8950   \n1   11122233345       Maria        8950                8950   \n2   11122233367        João        8950                8950   \n3   22233344456     Antônio        8950                8950   \n4   22233344484   Francisco        8950                8950   \n5   25566677829      Carlos        8950                8950   \n6   28900011174       Paulo        8341                8950   \n7   32233344520       Pedro        2763                8950   \n8   35566677865       Lucas        8950                8950   \n9   38900011211        Luiz        8950                8950   \n10  42233344556      Marcos        8950                8950   \n11  45566677901        Luis        8950                8950   \n12  48900011247     Gabriel        8950                8950   \n13  52233344592      Rafael        5223                8950   \n14  55566677938      Daniel        8950                8950   \n15  58900011283     Marcelo        8950                8950   \n16  62233344628       Bruno        8950                8950   \n17  65566677974     Eduardo        8950                8950   \n18  68900011319      Felipe        8950                8950   \n19  72233344665    Raimundo        8950                8950   \n20  75566678010     Rodrigo        8950                8950   \n21  78900011355         Ana        8950                8950   \n22  82233344701   Francisca        8950                8950   \n23  85566678046     Antônia        8950                8950   \n24  88900011392     Adriana        8950                8950   \n25  92233344737     Juliana        8950                8950   \n26  95566678082      Márcia        8950                8950   \n27  98900011428    Fernanda        5777                8950   \n28  02233344773    Patricia        8950                8950   \n29  05566678119       Aline        8950                8950   \n30  08900011464      Sandra        1300                8950   \n31  12233344809      Camila        3394                8950   \n32  15566678155      Amanda        1261                8950   \n33  18900011500       Bruna        8950                8950   \n34  22233344846     Jéssica        8950                8950   \n35  25566678191     Leticia        3673                8950   \n36  28900011536       Júlia        8950                8950   \n37  32233344882     Luciana        8950                8950   \n38  35566678227     Vanessa        8950                8950   \n39  38900011573     Mariana        8950                8950   \n40  42233344918      Amanda        2490                8950   \n41  45566678263  Alessandra        8950                8950   \n42  48900011609        Alon        8950                8950   \n43  52233344954      Marlon        8950                8950   \n44  55566678300       Diego        8950                8950   \n45  58900011645        Enzo        8950                8950   \n46  62233344990   Valentina        8950                8950   \n47  65566678336        Rosa        8950                8950   \n48  68900011681    Andressa        8950                8950   \n\n                            Email  \n0    email_do_cliente+1@gmail.com  \n1    email_do_cliente+2@gmail.com  \n2    email_do_cliente+3@gmail.com  \n3    email_do_cliente+4@gmail.com  \n4    email_do_cliente+5@gmail.com  \n5    email_do_cliente+6@gmail.com  \n6    email_do_cliente+7@gmail.com  \n7    email_do_cliente+8@gmail.com  \n8    email_do_cliente+9@gmail.com  \n9   email_do_cliente+10@gmail.com  \n10  email_do_cliente+11@gmail.com  \n11  email_do_cliente+12@gmail.com  \n12  email_do_cliente+13@gmail.com  \n13  email_do_cliente+14@gmail.com  \n14  email_do_cliente+15@gmail.com  \n15  email_do_cliente+16@gmail.com  \n16  email_do_cliente+17@gmail.com  \n17  email_do_cliente+18@gmail.com  \n18  email_do_cliente+19@gmail.com  \n19  email_do_cliente+20@gmail.com  \n20  email_do_cliente+21@gmail.com  \n21  email_do_cliente+22@gmail.com  \n22  email_do_cliente+23@gmail.com  \n23  email_do_cliente+24@gmail.com  \n24  email_do_cliente+25@gmail.com  \n25  email_do_cliente+26@gmail.com  \n26  email_do_cliente+27@gmail.com  \n27  email_do_cliente+28@gmail.com  \n28  email_do_cliente+29@gmail.com  \n29  email_do_cliente+30@gmail.com  \n30  email_do_cliente+31@gmail.com  \n31  email_do_cliente+32@gmail.com  \n32  email_do_cliente+33@gmail.com  \n33  email_do_cliente+34@gmail.com  \n34  email_do_cliente+35@gmail.com  \n35  email_do_cliente+36@gmail.com  \n36  email_do_cliente+37@gmail.com  \n37  email_do_cliente+38@gmail.com  \n38  email_do_cliente+39@gmail.com  \n39  email_do_cliente+40@gmail.com  \n40  email_do_cliente+41@gmail.com  \n41  email_do_cliente+42@gmail.com  \n42  email_do_cliente+43@gmail.com  \n43  email_do_cliente+44@gmail.com  \n44  email_do_cliente+45@gmail.com  \n45  email_do_cliente+46@gmail.com  \n46  email_do_cliente+47@gmail.com  \n47  email_do_cliente+48@gmail.com  \n48  email_do_cliente+49@gmail.com  ",
      "text/html": "<div>\n<style scoped>\n    .dataframe tbody tr th:only-of-type {\n        vertical-align: middle;\n    }\n\n    .dataframe tbody tr th {\n        vertical-align: top;\n    }\n\n    .dataframe thead th {\n        text-align: right;\n    }\n</style>\n<table border=\"1\" class=\"dataframe\">\n  <thead>\n    <tr style=\"text-align: right;\">\n      <th></th>\n      <th>Cliente</th>\n      <th>Nome</th>\n      <th>Valor Pago</th>\n      <th>Valor Total Devido</th>\n      <th>Email</th>\n    </tr>\n  </thead>\n  <tbody>\n    <tr>\n      <th>0</th>\n      <td>11122233312</td>\n      <td>José</td>\n      <td>8950</td>\n      <td>8950</td>\n      <td>email_do_cliente+1@gmail.com</td>\n    </tr>\n    <tr>\n      <th>1</th>\n      <td>11122233345</td>\n      <td>Maria</td>\n      <td>8950</td>\n      <td>8950</td>\n      <td>email_do_cliente+2@gmail.com</td>\n    </tr>\n    <tr>\n      <th>2</th>\n      <td>11122233367</td>\n      <td>João</td>\n      <td>8950</td>\n      <td>8950</td>\n      <td>email_do_cliente+3@gmail.com</td>\n    </tr>\n    <tr>\n      <th>3</th>\n      <td>22233344456</td>\n      <td>Antônio</td>\n      <td>8950</td>\n      <td>8950</td>\n      <td>email_do_cliente+4@gmail.com</td>\n    </tr>\n    <tr>\n      <th>4</th>\n      <td>22233344484</td>\n      <td>Francisco</td>\n      <td>8950</td>\n      <td>8950</td>\n      <td>email_do_cliente+5@gmail.com</td>\n    </tr>\n    <tr>\n      <th>5</th>\n      <td>25566677829</td>\n      <td>Carlos</td>\n      <td>8950</td>\n      <td>8950</td>\n      <td>email_do_cliente+6@gmail.com</td>\n    </tr>\n    <tr>\n      <th>6</th>\n      <td>28900011174</td>\n      <td>Paulo</td>\n      <td>8341</td>\n      <td>8950</td>\n      <td>email_do_cliente+7@gmail.com</td>\n    </tr>\n    <tr>\n      <th>7</th>\n      <td>32233344520</td>\n      <td>Pedro</td>\n      <td>2763</td>\n      <td>8950</td>\n      <td>email_do_cliente+8@gmail.com</td>\n    </tr>\n    <tr>\n      <th>8</th>\n      <td>35566677865</td>\n      <td>Lucas</td>\n      <td>8950</td>\n      <td>8950</td>\n      <td>email_do_cliente+9@gmail.com</td>\n    </tr>\n    <tr>\n      <th>9</th>\n      <td>38900011211</td>\n      <td>Luiz</td>\n      <td>8950</td>\n      <td>8950</td>\n      <td>email_do_cliente+10@gmail.com</td>\n    </tr>\n    <tr>\n      <th>10</th>\n      <td>42233344556</td>\n      <td>Marcos</td>\n      <td>8950</td>\n      <td>8950</td>\n      <td>email_do_cliente+11@gmail.com</td>\n    </tr>\n    <tr>\n      <th>11</th>\n      <td>45566677901</td>\n      <td>Luis</td>\n      <td>8950</td>\n      <td>8950</td>\n      <td>email_do_cliente+12@gmail.com</td>\n    </tr>\n    <tr>\n      <th>12</th>\n      <td>48900011247</td>\n      <td>Gabriel</td>\n      <td>8950</td>\n      <td>8950</td>\n      <td>email_do_cliente+13@gmail.com</td>\n    </tr>\n    <tr>\n      <th>13</th>\n      <td>52233344592</td>\n      <td>Rafael</td>\n      <td>5223</td>\n      <td>8950</td>\n      <td>email_do_cliente+14@gmail.com</td>\n    </tr>\n    <tr>\n      <th>14</th>\n      <td>55566677938</td>\n      <td>Daniel</td>\n      <td>8950</td>\n      <td>8950</td>\n      <td>email_do_cliente+15@gmail.com</td>\n    </tr>\n    <tr>\n      <th>15</th>\n      <td>58900011283</td>\n      <td>Marcelo</td>\n      <td>8950</td>\n      <td>8950</td>\n      <td>email_do_cliente+16@gmail.com</td>\n    </tr>\n    <tr>\n      <th>16</th>\n      <td>62233344628</td>\n      <td>Bruno</td>\n      <td>8950</td>\n      <td>8950</td>\n      <td>email_do_cliente+17@gmail.com</td>\n    </tr>\n    <tr>\n      <th>17</th>\n      <td>65566677974</td>\n      <td>Eduardo</td>\n      <td>8950</td>\n      <td>8950</td>\n      <td>email_do_cliente+18@gmail.com</td>\n    </tr>\n    <tr>\n      <th>18</th>\n      <td>68900011319</td>\n      <td>Felipe</td>\n      <td>8950</td>\n      <td>8950</td>\n      <td>email_do_cliente+19@gmail.com</td>\n    </tr>\n    <tr>\n      <th>19</th>\n      <td>72233344665</td>\n      <td>Raimundo</td>\n      <td>8950</td>\n      <td>8950</td>\n      <td>email_do_cliente+20@gmail.com</td>\n    </tr>\n    <tr>\n      <th>20</th>\n      <td>75566678010</td>\n      <td>Rodrigo</td>\n      <td>8950</td>\n      <td>8950</td>\n      <td>email_do_cliente+21@gmail.com</td>\n    </tr>\n    <tr>\n      <th>21</th>\n      <td>78900011355</td>\n      <td>Ana</td>\n      <td>8950</td>\n      <td>8950</td>\n      <td>email_do_cliente+22@gmail.com</td>\n    </tr>\n    <tr>\n      <th>22</th>\n      <td>82233344701</td>\n      <td>Francisca</td>\n      <td>8950</td>\n      <td>8950</td>\n      <td>email_do_cliente+23@gmail.com</td>\n    </tr>\n    <tr>\n      <th>23</th>\n      <td>85566678046</td>\n      <td>Antônia</td>\n      <td>8950</td>\n      <td>8950</td>\n      <td>email_do_cliente+24@gmail.com</td>\n    </tr>\n    <tr>\n      <th>24</th>\n      <td>88900011392</td>\n      <td>Adriana</td>\n      <td>8950</td>\n      <td>8950</td>\n      <td>email_do_cliente+25@gmail.com</td>\n    </tr>\n    <tr>\n      <th>25</th>\n      <td>92233344737</td>\n      <td>Juliana</td>\n      <td>8950</td>\n      <td>8950</td>\n      <td>email_do_cliente+26@gmail.com</td>\n    </tr>\n    <tr>\n      <th>26</th>\n      <td>95566678082</td>\n      <td>Márcia</td>\n      <td>8950</td>\n      <td>8950</td>\n      <td>email_do_cliente+27@gmail.com</td>\n    </tr>\n    <tr>\n      <th>27</th>\n      <td>98900011428</td>\n      <td>Fernanda</td>\n      <td>5777</td>\n      <td>8950</td>\n      <td>email_do_cliente+28@gmail.com</td>\n    </tr>\n    <tr>\n      <th>28</th>\n      <td>02233344773</td>\n      <td>Patricia</td>\n      <td>8950</td>\n      <td>8950</td>\n      <td>email_do_cliente+29@gmail.com</td>\n    </tr>\n    <tr>\n      <th>29</th>\n      <td>05566678119</td>\n      <td>Aline</td>\n      <td>8950</td>\n      <td>8950</td>\n      <td>email_do_cliente+30@gmail.com</td>\n    </tr>\n    <tr>\n      <th>30</th>\n      <td>08900011464</td>\n      <td>Sandra</td>\n      <td>1300</td>\n      <td>8950</td>\n      <td>email_do_cliente+31@gmail.com</td>\n    </tr>\n    <tr>\n      <th>31</th>\n      <td>12233344809</td>\n      <td>Camila</td>\n      <td>3394</td>\n      <td>8950</td>\n      <td>email_do_cliente+32@gmail.com</td>\n    </tr>\n    <tr>\n      <th>32</th>\n      <td>15566678155</td>\n      <td>Amanda</td>\n      <td>1261</td>\n      <td>8950</td>\n      <td>email_do_cliente+33@gmail.com</td>\n    </tr>\n    <tr>\n      <th>33</th>\n      <td>18900011500</td>\n      <td>Bruna</td>\n      <td>8950</td>\n      <td>8950</td>\n      <td>email_do_cliente+34@gmail.com</td>\n    </tr>\n    <tr>\n      <th>34</th>\n      <td>22233344846</td>\n      <td>Jéssica</td>\n      <td>8950</td>\n      <td>8950</td>\n      <td>email_do_cliente+35@gmail.com</td>\n    </tr>\n    <tr>\n      <th>35</th>\n      <td>25566678191</td>\n      <td>Leticia</td>\n      <td>3673</td>\n      <td>8950</td>\n      <td>email_do_cliente+36@gmail.com</td>\n    </tr>\n    <tr>\n      <th>36</th>\n      <td>28900011536</td>\n      <td>Júlia</td>\n      <td>8950</td>\n      <td>8950</td>\n      <td>email_do_cliente+37@gmail.com</td>\n    </tr>\n    <tr>\n      <th>37</th>\n      <td>32233344882</td>\n      <td>Luciana</td>\n      <td>8950</td>\n      <td>8950</td>\n      <td>email_do_cliente+38@gmail.com</td>\n    </tr>\n    <tr>\n      <th>38</th>\n      <td>35566678227</td>\n      <td>Vanessa</td>\n      <td>8950</td>\n      <td>8950</td>\n      <td>email_do_cliente+39@gmail.com</td>\n    </tr>\n    <tr>\n      <th>39</th>\n      <td>38900011573</td>\n      <td>Mariana</td>\n      <td>8950</td>\n      <td>8950</td>\n      <td>email_do_cliente+40@gmail.com</td>\n    </tr>\n    <tr>\n      <th>40</th>\n      <td>42233344918</td>\n      <td>Amanda</td>\n      <td>2490</td>\n      <td>8950</td>\n      <td>email_do_cliente+41@gmail.com</td>\n    </tr>\n    <tr>\n      <th>41</th>\n      <td>45566678263</td>\n      <td>Alessandra</td>\n      <td>8950</td>\n      <td>8950</td>\n      <td>email_do_cliente+42@gmail.com</td>\n    </tr>\n    <tr>\n      <th>42</th>\n      <td>48900011609</td>\n      <td>Alon</td>\n      <td>8950</td>\n      <td>8950</td>\n      <td>email_do_cliente+43@gmail.com</td>\n    </tr>\n    <tr>\n      <th>43</th>\n      <td>52233344954</td>\n      <td>Marlon</td>\n      <td>8950</td>\n      <td>8950</td>\n      <td>email_do_cliente+44@gmail.com</td>\n    </tr>\n    <tr>\n      <th>44</th>\n      <td>55566678300</td>\n      <td>Diego</td>\n      <td>8950</td>\n      <td>8950</td>\n      <td>email_do_cliente+45@gmail.com</td>\n    </tr>\n    <tr>\n      <th>45</th>\n      <td>58900011645</td>\n      <td>Enzo</td>\n      <td>8950</td>\n      <td>8950</td>\n      <td>email_do_cliente+46@gmail.com</td>\n    </tr>\n    <tr>\n      <th>46</th>\n      <td>62233344990</td>\n      <td>Valentina</td>\n      <td>8950</td>\n      <td>8950</td>\n      <td>email_do_cliente+47@gmail.com</td>\n    </tr>\n    <tr>\n      <th>47</th>\n      <td>65566678336</td>\n      <td>Rosa</td>\n      <td>8950</td>\n      <td>8950</td>\n      <td>email_do_cliente+48@gmail.com</td>\n    </tr>\n    <tr>\n      <th>48</th>\n      <td>68900011681</td>\n      <td>Andressa</td>\n      <td>8950</td>\n      <td>8950</td>\n      <td>email_do_cliente+49@gmail.com</td>\n    </tr>\n  </tbody>\n</table>\n</div>"
     },
     "metadata": {}
    }
   ],
   "source": [
    "import pandas as pd\n",
    "import time\n",
    "from selenium import webdriver\n",
    "\n",
    "df = pd.read_excel('pagamentos.xlsx', dtype={'Cliente': object})\n",
    "display(df)"
   ]
  },
  {
   "source": [
    "## Passo 2 - Fazendo o processo manualmente\n",
    "\n",
    "Para entender como o processo de automação deve funcionar, primeiramente irei realizar essa etapa manualmente.\n",
    "\n",
    "A cobrança de pagamentos consiste em seguir as etapas:\n",
    "\n",
    "1. Acessar o site do PagSeguro;\n",
    "2. Fazer login;\n",
    "3. Acessar aba 'Venda Online' depois 'Solicite Pagamentos';\n",
    "4. Preencher as informações do cliente e de cobrança;\n",
    "5. Clicar em 'Revisar antes de enviar';\n",
    "6. Clicar em 'Confirmar envio'."
   ],
   "cell_type": "markdown",
   "metadata": {}
  },
  {
   "source": [
    "## Passo 3 - Automatizando o processo manual\n",
    "\n",
    "Nessa etapa, irei transformar cada fase do processo manual em código Python. O objetivo aqui é que esse processo seja automatizado para, inicialmente, um único cliente.\n",
    "\n",
    "Irei escolher um cliente qualquer da base que seja inadimplente."
   ],
   "cell_type": "markdown",
   "metadata": {}
  },
  {
   "cell_type": "code",
   "execution_count": 2,
   "metadata": {},
   "outputs": [
    {
     "output_type": "execute_result",
     "data": {
      "text/plain": [
       "Cliente                                 98900011428\n",
       "Nome                                       Fernanda\n",
       "Valor Pago                                     5777\n",
       "Valor Total Devido                             8950\n",
       "Email                 email_do_cliente+28@gmail.com\n",
       "Name: 27, dtype: object"
      ]
     },
     "metadata": {},
     "execution_count": 2
    }
   ],
   "source": [
    "df.loc[27]"
   ]
  },
  {
   "source": [
    "Para automação de testes em páginas web, estarei usando a biblioteca *Selenium*. Aqui está o link com sua documentação: https://pypi.org/project/selenium/.\n",
    "\n",
    "A finalidade que busco é criar um código que permita acessar o site do PagSeguro, fazer login e consiga inserir os dados do cliente, logo, farei uso do módulo *webdriver* importado anteriormente.\n",
    "\n",
    "A depender do navegador que você possuir instalado em seu computador, a maneira como você irá utilizar o *webdriver* pode ser diferente. No caso do Chrome, será necessário fazer download do **ChromeDriver**. Link para download e documentação: https://sites.google.com/a/chromium.org/chromedriver/home.\n",
    "\n",
    "Dito isso, basicamente o código se resumirá na manipulação das funções 'find_element_by_id' e 'find_element_by_xpath' para selecionarem um campo específico da página web e da função 'send_keys' para preencher esses campos. Além da função 'click', que é autoexplicativa."
   ],
   "cell_type": "markdown",
   "metadata": {}
  },
  {
   "cell_type": "code",
   "execution_count": null,
   "metadata": {},
   "outputs": [],
   "source": [
    "# Configurando o driver\n",
    "chromedriver = 'C:/diretório_onde_está_o_chromedriver'\n",
    "driver = webdriver.Chrome(chromedriver)\n",
    "\n",
    "# Acessando página de login\n",
    "driver.get('https://acesso.pagseguro.uol.com.br/')\n",
    "\n",
    "# Conta do PagSeguro que fará login\n",
    "email = 'pagseguro@email.com'\n",
    "password = 'senha_do_pagseguro'\n",
    "\n",
    "# Preenchendo os campos de login\n",
    "driver.find_element_by_id('user').send_keys(email)\n",
    "driver.find_element_by_id('password').send_keys(password)\n",
    "driver.find_element_by_xpath('//*[@id=\"__next\"]/div/div/main/div/div/div/form/div/div/div/div/div[3]/button').click()\n",
    "time.sleep(3)  # Esperar um pouco enquanto página carrega\n",
    "\n",
    "# Acessando página de solicitação de pagamentos\n",
    "driver.get('https://pagseguro.uol.com.br/operations/charging.jhtml')\n",
    "\n",
    "# Dados do cliente\n",
    "customer_email = 'email_do_cliente+28@gmail.com'\n",
    "customer_name = 'Fernanda'\n",
    "customer_debt = f'{8950 - 5777:.2f}'  # O campo com a dívida do cliente precisa ter duas casas decimais\n",
    "\n",
    "# Preenchendo os campos com os dados do cliente\n",
    "driver.find_element_by_xpath('//*[@id=\"newRequestForm\"]/div[1]/section[1]/div/fieldset[1]/input').send_keys(customer_email)\n",
    "driver.find_element_by_xpath('//*[@id=\"newRequestForm\"]/div[1]/section[1]/div/fieldset[2]/input').send_keys(customer_name)\n",
    "driver.find_element_by_xpath('//*[@id=\"newRequestForm\"]/div[1]/section[2]/div/fieldset[1]/input').send_keys('Cobrança de pagamento atrasado.')\n",
    "driver.find_element_by_xpath('//*[@id=\"newRequestForm\"]/div[1]/section[2]/div/fieldset[2]/div/input').send_keys(customer_debt)\n",
    "\n",
    "# Botões para fazer envio da cobrança\n",
    "driver.find_element_by_id('sendNewCharging').click()\n",
    "time.sleep(1)\n",
    "driver.find_element_by_id('buttonConfirmSubmit').click()"
   ]
  },
  {
   "source": [
    "## Passo 4 - Automatizando para toda a base\n",
    "\n",
    "Agora que consegui realizar a cobrança para um dos clientes, irei automatizar todo esse código para que ele seja capaz de enviar para todos os inadimplentes presentes na base de dados.\n",
    "\n",
    "Portanto, basta fazer uso de um laço *for* que percorra toda a base verificando se o cliente possui uma dívida e, caso positivo, então será enviado um email de cobrança a ele pelo site do PagSeguro.\n",
    "\n",
    "O código já está praticamente feito, vou apenas fazer umas pequenas modificações para que assim ele possar funcionar para toda a base de dados."
   ],
   "cell_type": "markdown",
   "metadata": {}
  },
  {
   "cell_type": "code",
   "execution_count": null,
   "metadata": {},
   "outputs": [],
   "source": [
    "chromedriver = 'C:/diretório_onde_está_o_chromedriver'\n",
    "driver = webdriver.Chrome(chromedriver)\n",
    "\n",
    "driver.get('https://acesso.pagseguro.uol.com.br/')\n",
    "email = 'pagseguro@email.com'\n",
    "password = 'senha_do_pagseguro'\n",
    "driver.find_element_by_id('user').send_keys(email)\n",
    "driver.find_element_by_id('password').send_keys(password)\n",
    "driver.find_element_by_xpath('//*[@id=\"__next\"]/div/div/main/div/div/div/form/div/div/div/div/div[3]/button').click()\n",
    "time.sleep(3)\n",
    "\n",
    "\n",
    "for customer in df.index:\n",
    "    debt = df.loc[customer, 'Valor Total Devido'] - df.loc[customer. 'Valor Pago']\n",
    "\n",
    "    if debt > 0:\n",
    "        driver.get('https://pagseguro.uol.com.br/operations/charging.jhtml')\n",
    "        customer_email = df.loc[customer, 'Email']\n",
    "        customer_name = df.loc[customer, 'Nome']\n",
    "        customer_debt = f'{debt:.2f}'\n",
    "\n",
    "        driver.find_element_by_xpath('//*[@id=\"newRequestForm\"]/div[1]/section[1]/div/fieldset[1]/input').send_keys(customer_email)\n",
    "        driver.find_element_by_xpath('//*[@id=\"newRequestForm\"]/div[1]/section[1]/div/fieldset[2]/input').send_keys(customer_name)\n",
    "        driver.find_element_by_xpath('//*[@id=\"newRequestForm\"]/div[1]/section[2]/div/fieldset[1]/input').send_keys('Cobrança de pagamento atrasado.')\n",
    "        driver.find_element_by_xpath('//*[@id=\"newRequestForm\"]/div[1]/section[2]/div/fieldset[2]/div/input').send_keys(customer_debt)\n",
    "        driver.find_element_by_id('sendNewCharging').click()\n",
    "        time.sleep(1)\n",
    "        driver.find_element_by_id('buttonConfirmSubmit').click()\n",
    "        time.sleep(2)"
   ]
  }
 ]
}